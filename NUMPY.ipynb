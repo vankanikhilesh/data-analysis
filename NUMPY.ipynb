{
  "nbformat": 4,
  "nbformat_minor": 0,
  "metadata": {
    "colab": {
      "provenance": []
    },
    "kernelspec": {
      "name": "python3",
      "display_name": "Python 3"
    },
    "language_info": {
      "name": "python"
    }
  },
  "cells": [
    {
      "cell_type": "code",
      "execution_count": null,
      "metadata": {
        "id": "G2oWDvG9p-sT",
        "colab": {
          "base_uri": "https://localhost:8080/"
        },
        "outputId": "53786664-9de7-4e9c-ca6d-748404d65a7d"
      },
      "outputs": [
        {
          "output_type": "stream",
          "name": "stdout",
          "text": [
            "[1. 2. 3. 4. 5.]\n"
          ]
        }
      ],
      "source": [
        "import numpy as np\n",
        "#creating arrays\n",
        "arr=np.array([1,2,3,4,5],dtype=float)\n",
        "print(arr)"
      ]
    },
    {
      "cell_type": "code",
      "source": [
        "zeros_arr=np.zeros((3,3),dtype=float)\n",
        "print(zeros_arr)\n",
        "ones_arr=np.ones((2,2),dtype=int)\n",
        "print(ones_arr)\n",
        "arrange_arr=np.arange(10)\n",
        "print(arrange_arr)\n",
        "#array manipulation\n",
        "reshaped_arr=arr.reshape(5,1)\n",
        "print(reshaped_arr)\n",
        "sliced_arr=arr[2:4]\n",
        "print(sliced_arr)\n",
        "#transpose of array\n",
        "a=np.array([1,2,3,4,5,6,7,8])\n",
        "b=a.T\n",
        "print(b)\n",
        "#b=np.split(a,2)\n",
        "#print(b)"
      ],
      "metadata": {
        "id": "NpMlU9VGq2Fw",
        "colab": {
          "base_uri": "https://localhost:8080/",
          "height": 315
        },
        "outputId": "5c0fa21e-91ee-4de2-b6ce-b59c6fe8bb00"
      },
      "execution_count": null,
      "outputs": [
        {
          "output_type": "stream",
          "name": "stdout",
          "text": [
            "[[0. 0. 0.]\n",
            " [0. 0. 0.]\n",
            " [0. 0. 0.]]\n",
            "[[1 1]\n",
            " [1 1]]\n",
            "[0 1 2 3 4 5 6 7 8 9]\n"
          ]
        },
        {
          "output_type": "error",
          "ename": "ValueError",
          "evalue": "cannot reshape array of size 6 into shape (5,1)",
          "traceback": [
            "\u001b[0;31m---------------------------------------------------------------------------\u001b[0m",
            "\u001b[0;31mValueError\u001b[0m                                Traceback (most recent call last)",
            "\u001b[0;32m<ipython-input-10-008f8fc41783>\u001b[0m in \u001b[0;36m<cell line: 8>\u001b[0;34m()\u001b[0m\n\u001b[1;32m      6\u001b[0m \u001b[0mprint\u001b[0m\u001b[0;34m(\u001b[0m\u001b[0marrange_arr\u001b[0m\u001b[0;34m)\u001b[0m\u001b[0;34m\u001b[0m\u001b[0;34m\u001b[0m\u001b[0m\n\u001b[1;32m      7\u001b[0m \u001b[0;31m#array manipulation\u001b[0m\u001b[0;34m\u001b[0m\u001b[0;34m\u001b[0m\u001b[0m\n\u001b[0;32m----> 8\u001b[0;31m \u001b[0mreshaped_arr\u001b[0m\u001b[0;34m=\u001b[0m\u001b[0marr\u001b[0m\u001b[0;34m.\u001b[0m\u001b[0mreshape\u001b[0m\u001b[0;34m(\u001b[0m\u001b[0;36m5\u001b[0m\u001b[0;34m,\u001b[0m\u001b[0;36m1\u001b[0m\u001b[0;34m)\u001b[0m\u001b[0;34m\u001b[0m\u001b[0;34m\u001b[0m\u001b[0m\n\u001b[0m\u001b[1;32m      9\u001b[0m \u001b[0mprint\u001b[0m\u001b[0;34m(\u001b[0m\u001b[0mreshaped_arr\u001b[0m\u001b[0;34m)\u001b[0m\u001b[0;34m\u001b[0m\u001b[0;34m\u001b[0m\u001b[0m\n\u001b[1;32m     10\u001b[0m \u001b[0msliced_arr\u001b[0m\u001b[0;34m=\u001b[0m\u001b[0marr\u001b[0m\u001b[0;34m[\u001b[0m\u001b[0;36m2\u001b[0m\u001b[0;34m:\u001b[0m\u001b[0;36m4\u001b[0m\u001b[0;34m]\u001b[0m\u001b[0;34m\u001b[0m\u001b[0;34m\u001b[0m\u001b[0m\n",
            "\u001b[0;31mValueError\u001b[0m: cannot reshape array of size 6 into shape (5,1)"
          ]
        }
      ]
    },
    {
      "cell_type": "code",
      "source": [
        "a=np.array([1,2,3,4,5,6,7,8])\n",
        "b=a.T\n",
        "print(b)"
      ],
      "metadata": {
        "colab": {
          "base_uri": "https://localhost:8080/"
        },
        "id": "PolNPksRqaFl",
        "outputId": "a68b1ec5-18d3-4fa9-9568-51519dad360c"
      },
      "execution_count": null,
      "outputs": [
        {
          "output_type": "stream",
          "name": "stdout",
          "text": [
            "[1 2 3 4 5 6 7 8]\n"
          ]
        }
      ]
    },
    {
      "cell_type": "code",
      "source": [
        "a=np.array([1,2,3,4,5,6,7,8])\n",
        "b=np.split(a,4)\n",
        "print(b)"
      ],
      "metadata": {
        "colab": {
          "base_uri": "https://localhost:8080/"
        },
        "id": "6h8yLo9CpfR6",
        "outputId": "ef6c85db-61e2-4a54-f00b-046e9006027c"
      },
      "execution_count": null,
      "outputs": [
        {
          "output_type": "stream",
          "name": "stdout",
          "text": [
            "[array([1, 2]), array([3, 4]), array([5, 6]), array([7, 8])]\n"
          ]
        }
      ]
    },
    {
      "cell_type": "code",
      "source": [
        "import numpy as np\n",
        "arr=np.array([1,2,3,4,5,6],dtype=float)\n",
        "reshaped_arr=arr.reshape(2,3)\n",
        "print(reshaped_arr)"
      ],
      "metadata": {
        "colab": {
          "base_uri": "https://localhost:8080/"
        },
        "id": "aBMEWD_pq9Gs",
        "outputId": "9db54e33-3924-429d-e299-caf8e5f282f8"
      },
      "execution_count": null,
      "outputs": [
        {
          "output_type": "stream",
          "name": "stdout",
          "text": [
            "[[1. 2. 3.]\n",
            " [4. 5. 6.]]\n"
          ]
        }
      ]
    },
    {
      "cell_type": "code",
      "source": [
        "a=np.array([1,2,3,4,5,6])\n",
        "b=a.reshape(2,3)\n",
        "print(b)"
      ],
      "metadata": {
        "colab": {
          "base_uri": "https://localhost:8080/"
        },
        "id": "FTsh6qHAnqvk",
        "outputId": "016c10ff-9a77-41b3-b380-498c57262a5b"
      },
      "execution_count": null,
      "outputs": [
        {
          "output_type": "stream",
          "name": "stdout",
          "text": [
            "[[1 2 3]\n",
            " [4 5 6]]\n"
          ]
        }
      ]
    },
    {
      "cell_type": "code",
      "source": [
        "import numpy as np\n",
        "arrange_arr=np.arange(10)\n",
        "print(arrange_arr)"
      ],
      "metadata": {
        "colab": {
          "base_uri": "https://localhost:8080/"
        },
        "id": "T6FInaYtX8ax",
        "outputId": "b658dc45-5a73-45d4-ca99-f6f812c27f67"
      },
      "execution_count": null,
      "outputs": [
        {
          "output_type": "stream",
          "name": "stdout",
          "text": [
            "[0 1 2 3 4 5 6 7 8 9]\n"
          ]
        }
      ]
    },
    {
      "cell_type": "code",
      "source": [],
      "metadata": {
        "id": "TMY35o1cY6nw"
      },
      "execution_count": null,
      "outputs": []
    },
    {
      "cell_type": "code",
      "source": [
        "#matrix multipilication\n",
        "a=np.array([[1,2],[3,4]])\n",
        "b=np.array([[5,6],[7,8]])\n",
        "c=np.dot(a,b)\n",
        "print(c)\n",
        "d=np.linalg.eig(c)\n",
        "print(d)\n"
      ],
      "metadata": {
        "colab": {
          "base_uri": "https://localhost:8080/"
        },
        "id": "ov4rhL4RwOJ-",
        "outputId": "98ad0d31-9756-4cd0-cc5c-ea03b905842d"
      },
      "execution_count": null,
      "outputs": [
        {
          "output_type": "stream",
          "name": "stdout",
          "text": [
            "[[19 22]\n",
            " [43 50]]\n",
            "EigResult(eigenvalues=array([5.80198014e-02, 6.89419802e+01]), eigenvectors=array([[-0.75781077, -0.40313049],\n",
            "       [ 0.65247439, -0.91514251]]))\n"
          ]
        }
      ]
    },
    {
      "cell_type": "code",
      "source": [],
      "metadata": {
        "id": "Dg6GTXXHeaOo"
      },
      "execution_count": null,
      "outputs": []
    },
    {
      "cell_type": "code",
      "source": [
        "data=np.loadtxt(\"/content/DATA ANALYSIS.txt\",dtype=str)\n",
        "print(data)"
      ],
      "metadata": {
        "colab": {
          "base_uri": "https://localhost:8080/"
        },
        "id": "RXDpFLOo03sI",
        "outputId": "3291630b-dccd-45e4-e12d-411f6b76f7f1"
      },
      "execution_count": null,
      "outputs": [
        {
          "output_type": "stream",
          "name": "stdout",
          "text": [
            "[]\n"
          ]
        },
        {
          "output_type": "stream",
          "name": "stderr",
          "text": [
            "<ipython-input-17-28630150c6d3>:1: UserWarning: loadtxt: input contained no data: \"/content/DATA ANALYSIS.txt\"\n",
            "  data=np.loadtxt(\"/content/DATA ANALYSIS.txt\",dtype=str)\n"
          ]
        }
      ]
    },
    {
      "cell_type": "code",
      "source": [
        "import numpy as np\n",
        "data=np.loadtxt(\"/content/drive/MyDrive/dataset/data.txt\",dtype=int)\n",
        "d=np.savetxt(\"/content/ar.txt\",arrange)\n",
        "print(d)\n",
        "print(data)"
      ],
      "metadata": {
        "colab": {
          "base_uri": "https://localhost:8080/"
        },
        "id": "ZItefAtE3s6w",
        "outputId": "6d60a565-541f-49ea-8599-ac12cf74ea2c"
      },
      "execution_count": null,
      "outputs": [
        {
          "output_type": "stream",
          "name": "stdout",
          "text": [
            "None\n",
            "[1 2 3 4 5 6]\n"
          ]
        }
      ]
    },
    {
      "cell_type": "code",
      "source": [
        "import numpy as np\n",
        "arrange=np.arange(0,100,5)\n",
        "print(arrange)\n",
        "c=np.savetxt(\"/content/air.txt\",arrange)\n",
        "print(c)"
      ],
      "metadata": {
        "colab": {
          "base_uri": "https://localhost:8080/"
        },
        "id": "nU-HkJnYNUan",
        "outputId": "b560a265-38cd-4558-c1ef-62bf595d796b"
      },
      "execution_count": null,
      "outputs": [
        {
          "output_type": "stream",
          "name": "stdout",
          "text": [
            "[ 0  5 10 15 20 25 30 35 40 45 50 55 60 65 70 75 80 85 90 95]\n",
            "None\n"
          ]
        }
      ]
    },
    {
      "cell_type": "code",
      "source": [
        "import numpy as np\n",
        "a=np.random.rand()\n",
        "\n",
        "print(a)\n",
        "b=np.random.randint(0,2)\n",
        "print(b)\n",
        "c=np.array([[2,2],[3,4]])\n",
        "print(c)\n",
        "print(type(c))\n",
        "print(c.shape)"
      ],
      "metadata": {
        "colab": {
          "base_uri": "https://localhost:8080/"
        },
        "id": "q3LfWl6ZSIPI",
        "outputId": "bd8560da-0c63-4ac5-d1da-b652426656c3"
      },
      "execution_count": null,
      "outputs": [
        {
          "output_type": "stream",
          "name": "stdout",
          "text": [
            "0.3459871412302207\n",
            "0\n",
            "[[2 2]\n",
            " [3 4]]\n",
            "<class 'numpy.ndarray'>\n",
            "(2, 2)\n"
          ]
        }
      ]
    },
    {
      "cell_type": "code",
      "source": [
        "a=np.linspace(0.8,2,5)\n",
        "print(a)\n",
        "c=np.arange(24).reshape(3,2,4)\n",
        "print(c)\n",
        "b=np.array(([1,2],[2,2]),dtype=int)\n",
        "c=np.array(([2,2],[3,4]),dtype=int)\n",
        "print(b*c)"
      ],
      "metadata": {
        "colab": {
          "base_uri": "https://localhost:8080/"
        },
        "id": "tpgaMyEuUkVG",
        "outputId": "c721f78e-e9b4-4fbd-f111-a51618f786b3"
      },
      "execution_count": null,
      "outputs": [
        {
          "output_type": "stream",
          "name": "stdout",
          "text": [
            "[0.8 1.1 1.4 1.7 2. ]\n",
            "[[[ 0  1  2  3]\n",
            "  [ 4  5  6  7]]\n",
            "\n",
            " [[ 8  9 10 11]\n",
            "  [12 13 14 15]]\n",
            "\n",
            " [[16 17 18 19]\n",
            "  [20 21 22 23]]]\n",
            "[[2 4]\n",
            " [6 8]]\n"
          ]
        }
      ]
    },
    {
      "cell_type": "code",
      "source": [
        "b=np.array([[1,2],[2,2]])\n",
        "c=np.array([[2,2],[3,4]])\n",
        "print(b@c)\n",
        "print(b*c)\n",
        "b=np.dot(b,c)"
      ],
      "metadata": {
        "colab": {
          "base_uri": "https://localhost:8080/"
        },
        "id": "UQ4T2VrZWgE_",
        "outputId": "79620f82-f3cd-439b-88e3-c9e94a479671"
      },
      "execution_count": null,
      "outputs": [
        {
          "output_type": "stream",
          "name": "stdout",
          "text": [
            "[[ 8 10]\n",
            " [10 12]]\n",
            "[[2 4]\n",
            " [6 8]]\n"
          ]
        }
      ]
    },
    {
      "cell_type": "code",
      "source": [
        "from numpy import random\n",
        "a=np.ones((2,3),dtype=int)\n",
        "print(a.sum())\n",
        "print(a.sum(axis=1))\n",
        "print(a.sum(axis=0))\n",
        "c=np.random.random([2,12])\n",
        "b=np.ceil(np.random.random([2,12]))\n",
        "print(b)\n"
      ],
      "metadata": {
        "colab": {
          "base_uri": "https://localhost:8080/"
        },
        "id": "ngWIo7cuZVB1",
        "outputId": "03bf89e8-118f-4c64-b484-e0843c656206"
      },
      "execution_count": null,
      "outputs": [
        {
          "output_type": "stream",
          "name": "stdout",
          "text": [
            "6\n",
            "[3 3]\n",
            "[2 2 2]\n",
            "[[1. 1. 1. 1. 1. 1. 1. 1. 1. 1. 1. 1.]\n",
            " [1. 1. 1. 1. 1. 1. 1. 1. 1. 1. 1. 1.]]\n"
          ]
        }
      ]
    },
    {
      "cell_type": "code",
      "source": [
        "a=np.array(([2,3],[1,2]),dtype=int)\n",
        "print(a.min())\n",
        "print(a.min(axis=1))\n",
        "print(a.min(axis=0))"
      ],
      "metadata": {
        "colab": {
          "base_uri": "https://localhost:8080/"
        },
        "id": "w6cS1qDNct9I",
        "outputId": "b38db40d-66ae-409f-fcc4-b270cecdf6c7"
      },
      "execution_count": null,
      "outputs": [
        {
          "output_type": "stream",
          "name": "stdout",
          "text": [
            "1\n",
            "[2 1]\n",
            "[1 2]\n"
          ]
        }
      ]
    },
    {
      "cell_type": "code",
      "source": [
        "import numpy as np\n",
        "#a=np.array(([2,3,5,6,7,8]),dtype=int)\n",
        "#print(a.resize(3,2))\n",
        "#print(a.min())\n",
        "#print(a.cumsum())\n",
        "#print(a.cumsum(axis=0))\n",
        "#print(a.shape)\n",
        "a=np.array(([2,3,5,6,7,8]),dtype=int)\n",
        "a.resize(2,3)\n",
        "b=np.array(([3,4,5,6,7,8]),dtype=int)\n",
        "b.resize(2,3)\n",
        "#print(np.vstack((a,b)))\n",
        "#print(np.hstack((a,b)))\n",
        "#c=np.arange(30).reshape(2,3,5)\n",
        "#print(c)\n",
        "print(np.dstack(c))"
      ],
      "metadata": {
        "colab": {
          "base_uri": "https://localhost:8080/"
        },
        "id": "IYGjBo6mdb0O",
        "outputId": "0638f690-c33c-4e34-fb26-fd7cb2527cea"
      },
      "execution_count": null,
      "outputs": [
        {
          "output_type": "stream",
          "name": "stdout",
          "text": [
            "[[[ 0 15]\n",
            "  [ 1 16]\n",
            "  [ 2 17]\n",
            "  [ 3 18]\n",
            "  [ 4 19]]\n",
            "\n",
            " [[ 5 20]\n",
            "  [ 6 21]\n",
            "  [ 7 22]\n",
            "  [ 8 23]\n",
            "  [ 9 24]]\n",
            "\n",
            " [[10 25]\n",
            "  [11 26]\n",
            "  [12 27]\n",
            "  [13 28]\n",
            "  [14 29]]]\n"
          ]
        }
      ]
    },
    {
      "cell_type": "markdown",
      "source": [
        "dstack explanation:\n",
        "number of rows become number of group\n",
        "column become rows, group become column"
      ],
      "metadata": {
        "id": "hg2WuWwrh_o5"
      }
    },
    {
      "cell_type": "code",
      "source": [
        "import numpy as np\n",
        "zeros_arr=np.zeros((3,3),dtype=float)\n",
        "print(zeros_arr)\n",
        "ones_arr=np.ones((2,2),dtype=int)\n",
        "print(ones_arr)"
      ],
      "metadata": {
        "colab": {
          "base_uri": "https://localhost:8080/"
        },
        "id": "DjDhQ0C9UWDZ",
        "outputId": "64f43ce9-0c24-4059-c7f1-a60a27c44157"
      },
      "execution_count": null,
      "outputs": [
        {
          "output_type": "stream",
          "name": "stdout",
          "text": [
            "[[0. 0. 0.]\n",
            " [0. 0. 0.]\n",
            " [0. 0. 0.]]\n",
            "[[1 1]\n",
            " [1 1]]\n"
          ]
        }
      ]
    },
    {
      "cell_type": "code",
      "source": [
        "a=20\n",
        "b=30\n",
        "print(a+b)\n",
        "print(a-b)\n",
        "print(a*b)\n",
        "print(a/b)\n",
        "print(a%b)"
      ],
      "metadata": {
        "colab": {
          "base_uri": "https://localhost:8080/"
        },
        "id": "WjtKNg3mV3oo",
        "outputId": "4b6eddb5-d03d-4884-be41-b97614b7e438"
      },
      "execution_count": null,
      "outputs": [
        {
          "output_type": "stream",
          "name": "stdout",
          "text": [
            "50\n",
            "-10\n",
            "600\n",
            "0.6666666666666666\n",
            "20\n"
          ]
        }
      ]
    },
    {
      "cell_type": "code",
      "source": [
        "a=20\n",
        "b=10\n",
        "print(a==b)\n",
        "print(a<=b)\n",
        "print(a>=b)\n"
      ],
      "metadata": {
        "colab": {
          "base_uri": "https://localhost:8080/"
        },
        "id": "AxBPURcTWm05",
        "outputId": "8cfbb990-4d5b-4d8d-a537-692d8c332b11"
      },
      "execution_count": null,
      "outputs": [
        {
          "output_type": "stream",
          "name": "stdout",
          "text": [
            "False\n",
            "False\n",
            "True\n"
          ]
        }
      ]
    },
    {
      "cell_type": "markdown",
      "source": [
        "24-02-24\n"
      ],
      "metadata": {
        "id": "PqlA35fofkYF"
      }
    },
    {
      "cell_type": "code",
      "source": [
        "a=np.eye(4)\n",
        "print(a)\n",
        "a=np.full((2,2),3)\n",
        "print(a)\n",
        "print(a.itemsize)\n"
      ],
      "metadata": {
        "colab": {
          "base_uri": "https://localhost:8080/"
        },
        "id": "0tuPTzUGY-Js",
        "outputId": "0fddfd7b-0599-4952-e135-dc89b844b014"
      },
      "execution_count": null,
      "outputs": [
        {
          "output_type": "stream",
          "name": "stdout",
          "text": [
            "[[1. 0. 0. 0.]\n",
            " [0. 1. 0. 0.]\n",
            " [0. 0. 1. 0.]\n",
            " [0. 0. 0. 1.]]\n",
            "[[3 3]\n",
            " [3 3]]\n",
            "8\n"
          ]
        }
      ]
    },
    {
      "cell_type": "code",
      "source": [
        "x=[1,2,3]\n",
        "a=np.asarray(x)\n",
        "print(a)\n",
        "print(type(a))"
      ],
      "metadata": {
        "colab": {
          "base_uri": "https://localhost:8080/"
        },
        "id": "dEucBKDfaXWS",
        "outputId": "3c701f7b-3d95-4dc5-d3df-1e79b4e5618d"
      },
      "execution_count": null,
      "outputs": [
        {
          "output_type": "stream",
          "name": "stdout",
          "text": [
            "[1 2 3]\n",
            "<class 'numpy.ndarray'>\n"
          ]
        }
      ]
    },
    {
      "cell_type": "code",
      "source": [
        "x=np.array([1,4,0],float)\n",
        "y=np.array([2,2,1],float)\n",
        "print(np.inner(x,y))\n",
        "print(np.outer(x,y))\n",
        "print(np.cross(x,y))"
      ],
      "metadata": {
        "colab": {
          "base_uri": "https://localhost:8080/"
        },
        "id": "sTrlyJCJayT5",
        "outputId": "f05e2d48-5f2b-49e0-c7fd-4f6dafdf4ec8"
      },
      "execution_count": null,
      "outputs": [
        {
          "output_type": "stream",
          "name": "stdout",
          "text": [
            "10.0\n",
            "[[2. 2. 1.]\n",
            " [8. 8. 4.]\n",
            " [0. 0. 0.]]\n",
            "[ 4. -1. -6.]\n"
          ]
        }
      ]
    },
    {
      "cell_type": "code",
      "source": [
        "#create one dimensional array all values should pointed values\n",
        "a=np.array([1.3,2.6,3.4,4.8,5.7,6.9,7.4],dtype=float)\n",
        "np.rint(a)"
      ],
      "metadata": {
        "colab": {
          "base_uri": "https://localhost:8080/"
        },
        "id": "M3AUyRZydB-g",
        "outputId": "211ce098-cd83-4cc3-be01-8e5149badd7b"
      },
      "execution_count": null,
      "outputs": [
        {
          "output_type": "execute_result",
          "data": {
            "text/plain": [
              "array([1., 3., 3., 5., 6., 7., 7.])"
            ]
          },
          "metadata": {},
          "execution_count": 16
        }
      ]
    },
    {
      "cell_type": "code",
      "source": [
        "a=np.array([10,25,30,49,56],dtype=int)\n",
        "b=np.array([2,5,6,7,8],dtype=int)\n",
        "np.true_divide(a,b)"
      ],
      "metadata": {
        "colab": {
          "base_uri": "https://localhost:8080/"
        },
        "id": "Se5Udi40dqxW",
        "outputId": "6f8ff5a1-cf3b-4520-8ff9-b9eb784ef1a4"
      },
      "execution_count": null,
      "outputs": [
        {
          "output_type": "execute_result",
          "data": {
            "text/plain": [
              "array([5., 5., 5., 7., 7.])"
            ]
          },
          "metadata": {},
          "execution_count": 18
        }
      ]
    },
    {
      "cell_type": "code",
      "source": [
        "a=np.array([1,1,2,2,3,3])\n",
        "np.unique(a)"
      ],
      "metadata": {
        "colab": {
          "base_uri": "https://localhost:8080/"
        },
        "id": "-XtqAw06ee-a",
        "outputId": "e1928df9-11ca-45ee-d6d4-49e5a641a7d0"
      },
      "execution_count": null,
      "outputs": [
        {
          "output_type": "execute_result",
          "data": {
            "text/plain": [
              "array([1, 2, 3])"
            ]
          },
          "metadata": {},
          "execution_count": 19
        }
      ]
    },
    {
      "cell_type": "code",
      "source": [
        "a=np.array([[2,3],[4,4]])\n",
        "b=np.array([[2,4],[5,5]])\n",
        "np.union1d(a,b)"
      ],
      "metadata": {
        "colab": {
          "base_uri": "https://localhost:8080/"
        },
        "id": "uIcPMnwzexXf",
        "outputId": "c80d6450-44cd-498e-9403-01bebf309cc8"
      },
      "execution_count": null,
      "outputs": [
        {
          "output_type": "execute_result",
          "data": {
            "text/plain": [
              "array([2, 3, 4, 5])"
            ]
          },
          "metadata": {},
          "execution_count": 22
        }
      ]
    },
    {
      "cell_type": "code",
      "source": [
        "#intersect function\n",
        "a=np.array([[2,3],[4,4]])\n",
        "b=np.array([[2,4],[5,5]])\n",
        "np.intersect1d(a,b)"
      ],
      "metadata": {
        "colab": {
          "base_uri": "https://localhost:8080/"
        },
        "id": "VC7DY--8fs41",
        "outputId": "87fb985c-6427-4de9-f29f-898b5dec274d"
      },
      "execution_count": null,
      "outputs": [
        {
          "output_type": "execute_result",
          "data": {
            "text/plain": [
              "array([2, 4])"
            ]
          },
          "metadata": {},
          "execution_count": 25
        }
      ]
    },
    {
      "cell_type": "code",
      "source": [],
      "metadata": {
        "id": "rvjh1JjhhGE5"
      },
      "execution_count": null,
      "outputs": []
    },
    {
      "cell_type": "code",
      "source": [
        "#setdifference function\n",
        "a=np.array([[2,3],[4,4]])\n",
        "b=np.array([[2,4],[5,5]])\n",
        "np.setdiff1d(a,b)"
      ],
      "metadata": {
        "colab": {
          "base_uri": "https://localhost:8080/"
        },
        "id": "7emATKCggBmL",
        "outputId": "51c4baf7-b8df-4e31-eae1-d20b39162189"
      },
      "execution_count": null,
      "outputs": [
        {
          "output_type": "execute_result",
          "data": {
            "text/plain": [
              "array([3])"
            ]
          },
          "metadata": {},
          "execution_count": 24
        }
      ]
    },
    {
      "cell_type": "code",
      "source": [
        "#hypotensis function\n",
        "a=8\n",
        "b=6\n",
        "c=np.hypot(a,b)\n",
        "print(c)"
      ],
      "metadata": {
        "colab": {
          "base_uri": "https://localhost:8080/"
        },
        "id": "dL7gX1GShHwZ",
        "outputId": "0d9a7bd5-38c2-4b87-81da-10eb79a7950c"
      },
      "execution_count": null,
      "outputs": [
        {
          "output_type": "stream",
          "name": "stdout",
          "text": [
            "10.0\n"
          ]
        }
      ]
    },
    {
      "cell_type": "code",
      "source": [
        "#sin function\n",
        "x=np.sin(0)\n",
        "print(x)"
      ],
      "metadata": {
        "colab": {
          "base_uri": "https://localhost:8080/"
        },
        "id": "KLhZ72HKhfnd",
        "outputId": "a743cc2b-c560-411d-9c14-8874c447778c"
      },
      "execution_count": null,
      "outputs": [
        {
          "output_type": "stream",
          "name": "stdout",
          "text": [
            "0.0\n"
          ]
        }
      ]
    },
    {
      "cell_type": "code",
      "source": [
        "#divmod function\n",
        "a=np.array([10,21,30,40,50,60])\n",
        "b=np.array([20,21,2,20,25,25])\n",
        "c=np.divmod(a,b)\n",
        "c=np.mod(a,b)\n",
        "print(c)"
      ],
      "metadata": {
        "colab": {
          "base_uri": "https://localhost:8080/"
        },
        "id": "vO_YJp0Ghu-y",
        "outputId": "d547d54c-5833-40d4-a5a9-35ced6baff56"
      },
      "execution_count": null,
      "outputs": [
        {
          "output_type": "stream",
          "name": "stdout",
          "text": [
            "[10  0  0  0  0 10]\n"
          ]
        }
      ]
    },
    {
      "cell_type": "code",
      "source": [],
      "metadata": {
        "id": "ASHbhHvwi7k3"
      },
      "execution_count": null,
      "outputs": []
    },
    {
      "cell_type": "code",
      "source": [
        "a=np.array([10,21,30,40,50,60])\n",
        "b=np.array([20,21,2,20,25,25])\n",
        "np.divide(a,b)"
      ],
      "metadata": {
        "colab": {
          "base_uri": "https://localhost:8080/"
        },
        "id": "g4aD1Fl6itb7",
        "outputId": "5fb35340-ac4c-46c8-8dfa-c8921c5b47bb"
      },
      "execution_count": null,
      "outputs": [
        {
          "output_type": "execute_result",
          "data": {
            "text/plain": [
              "array([ 0.5,  1. , 15. ,  2. ,  2. ,  2.4])"
            ]
          },
          "metadata": {},
          "execution_count": 33
        }
      ]
    },
    {
      "cell_type": "code",
      "source": [
        "a=np.array([10,21,30,40,50,60])\n",
        "b=np.array([20,21,2,20,25,25])\n",
        "\n",
        "c=np.multiply(a,b)\n",
        "print(c)"
      ],
      "metadata": {
        "colab": {
          "base_uri": "https://localhost:8080/"
        },
        "id": "5qR85yE6i88i",
        "outputId": "87a7a46c-d234-4608-82bf-2ed01c05205b"
      },
      "execution_count": null,
      "outputs": [
        {
          "output_type": "stream",
          "name": "stdout",
          "text": [
            "[ 200  441   60  800 1250 1500]\n"
          ]
        }
      ]
    },
    {
      "cell_type": "code",
      "source": [
        "#goosion distribution\n",
        "from numpy import random\n",
        "x=random.normal(size=(2,3))\n",
        "print(x)"
      ],
      "metadata": {
        "colab": {
          "base_uri": "https://localhost:8080/"
        },
        "id": "W_GjONHwjVux",
        "outputId": "f4e5da06-8bc2-4272-fc57-9442185c09e0"
      },
      "execution_count": null,
      "outputs": [
        {
          "output_type": "stream",
          "name": "stdout",
          "text": [
            "[[ 1.08133887  0.47636638 -0.65824205]\n",
            " [-0.47806016 -0.04571778 -0.79252183]]\n"
          ]
        }
      ]
    },
    {
      "cell_type": "code",
      "source": [],
      "metadata": {
        "id": "kT2WIZX0lc-L"
      },
      "execution_count": null,
      "outputs": []
    },
    {
      "cell_type": "markdown",
      "source": [
        "mean=1+2+3+4+5/5=3\n",
        "median=(1-3)^2+(2-3)^2+(3-3)^2+(4-3)^2+(5-3)^2=10\n",
        "varience=10/5=2\n",
        "standard deviation=root(2)"
      ],
      "metadata": {
        "id": "K7W2U3ColfNO"
      }
    },
    {
      "cell_type": "code",
      "source": [
        "#loc=mean value,scale=standard deviation\n",
        "x=random.normal(loc=1,scale=2,size=(2,3))\n",
        "print(x)"
      ],
      "metadata": {
        "colab": {
          "base_uri": "https://localhost:8080/"
        },
        "id": "XigSzWe_j0ar",
        "outputId": "23cd4402-2b51-4766-b610-e163a90378ea"
      },
      "execution_count": null,
      "outputs": [
        {
          "output_type": "stream",
          "name": "stdout",
          "text": [
            "[[0.36506296 2.99419015 3.43571976]\n",
            " [1.85823929 3.06995987 2.8875922 ]]\n"
          ]
        }
      ]
    },
    {
      "cell_type": "code",
      "source": [
        "#n=no.of trails,p=probability\n",
        "x=random.binomial(n=12,p=0.5,size=10)\n",
        "print(x)"
      ],
      "metadata": {
        "colab": {
          "base_uri": "https://localhost:8080/"
        },
        "id": "1nzLtsLqka52",
        "outputId": "cd4d0b40-0c6e-496f-cee9-d34cce19ba71"
      },
      "execution_count": null,
      "outputs": [
        {
          "output_type": "stream",
          "name": "stdout",
          "text": [
            "[ 5  7  7  2  6  6  6  7 10  7]\n"
          ]
        }
      ]
    },
    {
      "cell_type": "code",
      "source": [
        "x=random.poisson(lam=2,size=10)\n",
        "print(x)"
      ],
      "metadata": {
        "colab": {
          "base_uri": "https://localhost:8080/"
        },
        "id": "VEoAui0smLJs",
        "outputId": "f9dc5b08-e484-4388-997a-887aaebf5a8c"
      },
      "execution_count": null,
      "outputs": [
        {
          "output_type": "stream",
          "name": "stdout",
          "text": [
            "[0 6 1 2 0 4 2 5 1 3]\n"
          ]
        }
      ]
    },
    {
      "cell_type": "code",
      "source": [
        "x=random.choice([2,4])\n",
        "print(x)"
      ],
      "metadata": {
        "colab": {
          "base_uri": "https://localhost:8080/"
        },
        "id": "DxbYziiFmiOL",
        "outputId": "f6c6a9c4-1fa6-4f66-d582-15d2852b65dd"
      },
      "execution_count": null,
      "outputs": [
        {
          "output_type": "stream",
          "name": "stdout",
          "text": [
            "4\n"
          ]
        }
      ]
    },
    {
      "cell_type": "code",
      "source": [
        "x=random.choice([3,5],p=[0.5,0.5],size=(3,5))\n",
        "print(x)"
      ],
      "metadata": {
        "colab": {
          "base_uri": "https://localhost:8080/"
        },
        "id": "ji7GkWCMmtM3",
        "outputId": "5e4f6847-941a-4a19-fa6d-34ce7738e476"
      },
      "execution_count": null,
      "outputs": [
        {
          "output_type": "stream",
          "name": "stdout",
          "text": [
            "[[5 3 3 5 3]\n",
            " [5 5 3 5 5]\n",
            " [5 3 3 5 3]]\n"
          ]
        }
      ]
    },
    {
      "cell_type": "code",
      "source": [
        "import numpy as np\n",
        "import matplotlib.pyplot as plt\n",
        "w=np.array([100,50,91,78,89,25,34,19,9,10])\n",
        "runs=np.array([1,0,2,0,3,7,8,9,7,5])\n",
        "plt.plot(runs,w,color='red')\n",
        "plt.title('IndvsAus_score')\n",
        "plt.show()"
      ],
      "metadata": {
        "id": "AqwIp47lnI1I",
        "colab": {
          "base_uri": "https://localhost:8080/",
          "height": 452
        },
        "outputId": "9c541811-791a-426b-c4fe-f7b2372ab110"
      },
      "execution_count": null,
      "outputs": [
        {
          "output_type": "display_data",
          "data": {
            "text/plain": [
              "<Figure size 640x480 with 1 Axes>"
            ],
            "image/png": "[encoded data removed]"
          },
          "metadata": {}
        }
      ]
    },
    {
      "cell_type": "code",
      "source": [
        "import numpy as np\n",
        "import matplotlib.pyplot as plt\n",
        "tigar=np.linspace(-2*np.pi,2*np.pi,100)\n",
        "print(tigar)\n"
      ],
      "metadata": {
        "colab": {
          "base_uri": "https://localhost:8080/"
        },
        "id": "l9ShG6142Be_",
        "outputId": "51ba58d4-650f-40fe-8f04-e1531e4955e4"
      },
      "execution_count": null,
      "outputs": [
        {
          "output_type": "stream",
          "name": "stdout",
          "text": [
            "[-6.28318531 -6.15625227 -6.02931923 -5.9023862  -5.77545316 -5.64852012\n",
            " -5.52158709 -5.39465405 -5.26772102 -5.14078798 -5.01385494 -4.88692191\n",
            " -4.75998887 -4.63305583 -4.5061228  -4.37918976 -4.25225672 -4.12532369\n",
            " -3.99839065 -3.87145761 -3.74452458 -3.61759154 -3.4906585  -3.36372547\n",
            " -3.23679243 -3.10985939 -2.98292636 -2.85599332 -2.72906028 -2.60212725\n",
            " -2.47519421 -2.34826118 -2.22132814 -2.0943951  -1.96746207 -1.84052903\n",
            " -1.71359599 -1.58666296 -1.45972992 -1.33279688 -1.20586385 -1.07893081\n",
            " -0.95199777 -0.82506474 -0.6981317  -0.57119866 -0.44426563 -0.31733259\n",
            " -0.19039955 -0.06346652  0.06346652  0.19039955  0.31733259  0.44426563\n",
            "  0.57119866  0.6981317   0.82506474  0.95199777  1.07893081  1.20586385\n",
            "  1.33279688  1.45972992  1.58666296  1.71359599  1.84052903  1.96746207\n",
            "  2.0943951   2.22132814  2.34826118  2.47519421  2.60212725  2.72906028\n",
            "  2.85599332  2.98292636  3.10985939  3.23679243  3.36372547  3.4906585\n",
            "  3.61759154  3.74452458  3.87145761  3.99839065  4.12532369  4.25225672\n",
            "  4.37918976  4.5061228   4.63305583  4.75998887  4.88692191  5.01385494\n",
            "  5.14078798  5.26772102  5.39465405  5.52158709  5.64852012  5.77545316\n",
            "  5.9023862   6.02931923  6.15625227  6.28318531]\n"
          ]
        }
      ]
    },
    {
      "cell_type": "code",
      "source": [
        "import numpy as np\n",
        "import matplotlib.pyplot as plt\n",
        "plt.scatter(tigar,np.sin(tigar),color='black')\n",
        "plt.title(\"sin(x)\")\n",
        "plt.show()"
      ],
      "metadata": {
        "colab": {
          "base_uri": "https://localhost:8080/",
          "height": 452
        },
        "id": "Nts8F-rW2kV8",
        "outputId": "ec595cb0-326d-4e5a-f0cb-d549a1905a0d"
      },
      "execution_count": null,
      "outputs": [
        {
          "output_type": "display_data",
          "data": {
            "text/plain": [
              "<Figure size 640x480 with 1 Axes>"
            ],
            "image/png": "[encoded data removed]"
          },
          "metadata": {}
        }
      ]
    },
    {
      "cell_type": "code",
      "source": [
        "import numpy as np\n",
        "import matplotlib.pyplot as plt\n",
        "overs=np.arange(5,50,5)\n",
        "overs_a=np.arange(5,30,5)\n",
        "runs_i=np.array([25,51,84,131,160,189,220,250,267])\n",
        "runs_a=np.array([15,41,94,110,151])\n",
        "wickets=np.array([12,32,96])\n",
        " #plotting\n",
        "plt.plot(overs,runs_i,color='blue',label='India',linestyle='dotted')\n",
        "plt.plot(overs_a,runs_a,color='yellow',label = 'Aus', linestyle='dotted')\n",
        " #combining two graphs\n",
        "plt.legend(loc='best')\n",
        " #displaying the final graph\n",
        "plt.show()"
      ],
      "metadata": {
        "colab": {
          "base_uri": "https://localhost:8080/",
          "height": 430
        },
        "id": "6Y8uf-0i3tb0",
        "outputId": "e2065de8-d51f-4038-8b5b-7c9ea46b170a"
      },
      "execution_count": null,
      "outputs": [
        {
          "output_type": "display_data",
          "data": {
            "text/plain": [
              "<Figure size 640x480 with 1 Axes>"
            ],
            "image/png": "[encoded data removed]"
          },
          "metadata": {}
        }
      ]
    },
    {
      "cell_type": "code",
      "source": [
        "import matplotlib.pyplot as plt\n",
        "a = [230,560,780,127,128]\n",
        "b = [200,160,270,127,400]\n",
        "years = [1,2,3,4]\n",
        "profit_a = [(a[i]-a[i-1]) for i in range(1,len(a))]\n",
        "profit_b = [(b[i]-b[i-1]) for i in range(1,len(b))]\n",
        "plt.subplot(2,1,2)\n",
        "plt.plot(years,profit_a,color='blue',linewidth = '4',label =\n",
        "'CompanyA',marker='>',ms='15',mec='m')\n",
        "#plt.subplot(2,1,1)\n",
        "plt.plot(years,profit_b,color='black',linestyle='dotted',label =\n",
        "'CompanyB',marker = 'H')\n",
        "plt.show()"
      ],
      "metadata": {
        "colab": {
          "base_uri": "https://localhost:8080/",
          "height": 228
        },
        "id": "8Z3RzlqP6dMW",
        "outputId": "314f7526-c35d-4d52-9479-9a60a14a2eeb"
      },
      "execution_count": null,
      "outputs": [
        {
          "output_type": "display_data",
          "data": {
            "text/plain": [
              "<Figure size 640x480 with 1 Axes>"
            ],
            "image/png": "[encoded data removed]"
          },
          "metadata": {}
        }
      ]
    },
    {
      "cell_type": "code",
      "source": [
        "a = np.array([25,60,5,10])\n",
        "labe = [\"AIML\",\"Python\",\"Pandas\",\"Numpy\"]\n",
        "colors=['green','pink','orange','blue']\n",
        "plt.pie(a,labels = labe,colors=colors)\n",
        "plt.show()"
      ],
      "metadata": {
        "colab": {
          "base_uri": "https://localhost:8080/",
          "height": 406
        },
        "id": "QmNZprmG9oL-",
        "outputId": "9f7eea75-2098-4ee7-c676-e96c4c22537b"
      },
      "execution_count": null,
      "outputs": [
        {
          "output_type": "display_data",
          "data": {
            "text/plain": [
              "<Figure size 640x480 with 1 Axes>"
            ],
            "image/png": "[encoded data removed]"
          },
          "metadata": {}
        }
      ]
    },
    {
      "cell_type": "code",
      "source": [
        "a=np.array([25,60,5,10])\n",
        "labe = [\"AIML\",\"Python\",\"Pandas\",\"Numpy\"]\n",
        "explo=[0.2,0,0,0]\n",
        "plt.pie(a,labels = labe,colors=colors)\n",
        "\n"
      ],
      "metadata": {
        "id": "0Tn6s1zC_Gju"
      },
      "execution_count": null,
      "outputs": []
    },
    {
      "cell_type": "code",
      "source": [
        "import seaborn as sns\n",
        "import matplotlib.pyplot as plt\n",
        "# Load the attention dataset\n",
        "attention = sns.load_dataset(\"attention\")\n",
        "print(attention)\n",
        "# Create a linear regression plot\n",
        "sns.lmplot(x=\"subject\", y=\"score\", data=attention)\n",
        "# Adding title and labels\n",
        "plt.title(\"Average restaurant bill\")\n",
        "plt.xlabel(\"subject($)\")\n",
        "plt.ylabel(\"score($)\")\n",
        "# Show plot\n",
        "plt.show()\n",
        "attention.to_csv(\"attentiondatabase.csv\")"
      ],
      "metadata": {
        "id": "xkhTXGNs_yxk",
        "colab": {
          "base_uri": "https://localhost:8080/",
          "height": 1000
        },
        "outputId": "9f9d02ff-993e-4df1-cbe4-e8e68fc30b5d"
      },
      "execution_count": null,
      "outputs": [
        {
          "output_type": "stream",
          "name": "stdout",
          "text": [
            "    Unnamed: 0  subject attention  solutions  score\n",
            "0            0        1   divided          1    2.0\n",
            "1            1        2   divided          1    3.0\n",
            "2            2        3   divided          1    3.0\n",
            "3            3        4   divided          1    5.0\n",
            "4            4        5   divided          1    4.0\n",
            "5            5        6   divided          1    5.0\n",
            "6            6        7   divided          1    5.0\n",
            "7            7        8   divided          1    5.0\n",
            "8            8        9   divided          1    2.0\n",
            "9            9       10   divided          1    6.0\n",
            "10          10       11   focused          1    6.0\n",
            "11          11       12   focused          1    8.0\n",
            "12          12       13   focused          1    6.0\n",
            "13          13       14   focused          1    8.0\n",
            "14          14       15   focused          1    8.0\n",
            "15          15       16   focused          1    6.0\n",
            "16          16       17   focused          1    7.0\n",
            "17          17       18   focused          1    7.0\n",
            "18          18       19   focused          1    5.0\n",
            "19          19       20   focused          1    6.0\n",
            "20          20        1   divided          2    4.0\n",
            "21          21        2   divided          2    4.0\n",
            "22          22        3   divided          2    5.0\n",
            "23          23        4   divided          2    7.0\n",
            "24          24        5   divided          2    5.0\n",
            "25          25        6   divided          2    5.0\n",
            "26          26        7   divided          2    4.5\n",
            "27          27        8   divided          2    7.0\n",
            "28          28        9   divided          2    3.0\n",
            "29          29       10   divided          2    5.0\n",
            "30          30       11   focused          2    5.0\n",
            "31          31       12   focused          2    9.0\n",
            "32          32       13   focused          2    5.0\n",
            "33          33       14   focused          2    8.0\n",
            "34          34       15   focused          2    8.0\n",
            "35          35       16   focused          2    8.0\n",
            "36          36       17   focused          2    7.0\n",
            "37          37       18   focused          2    8.0\n",
            "38          38       19   focused          2    6.0\n",
            "39          39       20   focused          2    6.0\n",
            "40          40        1   divided          3    7.0\n",
            "41          41        2   divided          3    5.0\n",
            "42          42        3   divided          3    6.0\n",
            "43          43        4   divided          3    5.0\n",
            "44          44        5   divided          3    8.0\n",
            "45          45        6   divided          3    6.0\n",
            "46          46        7   divided          3    6.0\n",
            "47          47        8   divided          3    8.0\n",
            "48          48        9   divided          3    7.0\n",
            "49          49       10   divided          3    6.0\n",
            "50          50       11   focused          3    6.0\n",
            "51          51       12   focused          3    8.0\n",
            "52          52       13   focused          3    9.0\n",
            "53          53       14   focused          3    7.0\n",
            "54          54       15   focused          3    7.0\n",
            "55          55       16   focused          3    7.0\n",
            "56          56       17   focused          3    6.0\n",
            "57          57       18   focused          3    6.0\n",
            "58          58       19   focused          3    6.0\n",
            "59          59       20   focused          3    5.0\n"
          ]
        },
        {
          "output_type": "display_data",
          "data": {
            "text/plain": [
              "<Figure size 500x500 with 1 Axes>"
            ],
            "image/png": "[encoded data removed]"
          },
          "metadata": {}
        }
      ]
    },
    {
      "cell_type": "code",
      "source": [
        "import pandas as pd\n",
        "df=pd.read_csv(\"/content/attentiondatabase.csv\")\n",
        "print(df.head())\n",
        "print(df.tail(n=10))"
      ],
      "metadata": {
        "colab": {
          "base_uri": "https://localhost:8080/"
        },
        "id": "LGJOygOF3wq_",
        "outputId": "a012f40b-27ef-4fce-b336-637e4db62b3b"
      },
      "execution_count": null,
      "outputs": [
        {
          "output_type": "stream",
          "name": "stdout",
          "text": [
            "   Unnamed: 0.1  Unnamed: 0  subject attention  solutions  score\n",
            "0             0           0        1   divided          1    2.0\n",
            "1             1           1        2   divided          1    3.0\n",
            "2             2           2        3   divided          1    3.0\n",
            "3             3           3        4   divided          1    5.0\n",
            "4             4           4        5   divided          1    4.0\n",
            "    Unnamed: 0.1  Unnamed: 0  subject attention  solutions  score\n",
            "50            50          50       11   focused          3    6.0\n",
            "51            51          51       12   focused          3    8.0\n",
            "52            52          52       13   focused          3    9.0\n",
            "53            53          53       14   focused          3    7.0\n",
            "54            54          54       15   focused          3    7.0\n",
            "55            55          55       16   focused          3    7.0\n",
            "56            56          56       17   focused          3    6.0\n",
            "57            57          57       18   focused          3    6.0\n",
            "58            58          58       19   focused          3    6.0\n",
            "59            59          59       20   focused          3    5.0\n"
          ]
        }
      ]
    },
    {
      "cell_type": "code",
      "source": [
        "df=pd.read_csv(\"/content/attentiondatabase.csv\")\n",
        "print(df.describe)"
      ],
      "metadata": {
        "colab": {
          "base_uri": "https://localhost:8080/"
        },
        "id": "USaIUqLz4fe2",
        "outputId": "d97c4e78-be67-4e2a-b118-ee8e08e9784a"
      },
      "execution_count": null,
      "outputs": [
        {
          "output_type": "stream",
          "name": "stdout",
          "text": [
            "<bound method NDFrame.describe of     Unnamed: 0.1  Unnamed: 0  subject attention  solutions  score\n",
            "0              0           0        1   divided          1    2.0\n",
            "1              1           1        2   divided          1    3.0\n",
            "2              2           2        3   divided          1    3.0\n",
            "3              3           3        4   divided          1    5.0\n",
            "4              4           4        5   divided          1    4.0\n",
            "5              5           5        6   divided          1    5.0\n",
            "6              6           6        7   divided          1    5.0\n",
            "7              7           7        8   divided          1    5.0\n",
            "8              8           8        9   divided          1    2.0\n",
            "9              9           9       10   divided          1    6.0\n",
            "10            10          10       11   focused          1    6.0\n",
            "11            11          11       12   focused          1    8.0\n",
            "12            12          12       13   focused          1    6.0\n",
            "13            13          13       14   focused          1    8.0\n",
            "14            14          14       15   focused          1    8.0\n",
            "15            15          15       16   focused          1    6.0\n",
            "16            16          16       17   focused          1    7.0\n",
            "17            17          17       18   focused          1    7.0\n",
            "18            18          18       19   focused          1    5.0\n",
            "19            19          19       20   focused          1    6.0\n",
            "20            20          20        1   divided          2    4.0\n",
            "21            21          21        2   divided          2    4.0\n",
            "22            22          22        3   divided          2    5.0\n",
            "23            23          23        4   divided          2    7.0\n",
            "24            24          24        5   divided          2    5.0\n",
            "25            25          25        6   divided          2    5.0\n",
            "26            26          26        7   divided          2    4.5\n",
            "27            27          27        8   divided          2    7.0\n",
            "28            28          28        9   divided          2    3.0\n",
            "29            29          29       10   divided          2    5.0\n",
            "30            30          30       11   focused          2    5.0\n",
            "31            31          31       12   focused          2    9.0\n",
            "32            32          32       13   focused          2    5.0\n",
            "33            33          33       14   focused          2    8.0\n",
            "34            34          34       15   focused          2    8.0\n",
            "35            35          35       16   focused          2    8.0\n",
            "36            36          36       17   focused          2    7.0\n",
            "37            37          37       18   focused          2    8.0\n",
            "38            38          38       19   focused          2    6.0\n",
            "39            39          39       20   focused          2    6.0\n",
            "40            40          40        1   divided          3    7.0\n",
            "41            41          41        2   divided          3    5.0\n",
            "42            42          42        3   divided          3    6.0\n",
            "43            43          43        4   divided          3    5.0\n",
            "44            44          44        5   divided          3    8.0\n",
            "45            45          45        6   divided          3    6.0\n",
            "46            46          46        7   divided          3    6.0\n",
            "47            47          47        8   divided          3    8.0\n",
            "48            48          48        9   divided          3    7.0\n",
            "49            49          49       10   divided          3    6.0\n",
            "50            50          50       11   focused          3    6.0\n",
            "51            51          51       12   focused          3    8.0\n",
            "52            52          52       13   focused          3    9.0\n",
            "53            53          53       14   focused          3    7.0\n",
            "54            54          54       15   focused          3    7.0\n",
            "55            55          55       16   focused          3    7.0\n",
            "56            56          56       17   focused          3    6.0\n",
            "57            57          57       18   focused          3    6.0\n",
            "58            58          58       19   focused          3    6.0\n",
            "59            59          59       20   focused          3    5.0>\n"
          ]
        }
      ]
    },
    {
      "cell_type": "code",
      "source": [
        "df=pd.read_csv(\"/content/attentiondatabase.csv\")\n",
        "print(df.columns)"
      ],
      "metadata": {
        "colab": {
          "base_uri": "https://localhost:8080/"
        },
        "id": "YPrUQex14t9p",
        "outputId": "e3a51594-2bf7-46ae-c199-a06bcc21cd79"
      },
      "execution_count": null,
      "outputs": [
        {
          "output_type": "stream",
          "name": "stdout",
          "text": [
            "Index(['Unnamed: 0.1', 'Unnamed: 0', 'subject', 'attention', 'solutions',\n",
            "       'score'],\n",
            "      dtype='object')\n"
          ]
        }
      ]
    }
  ]
}